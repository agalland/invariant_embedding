{
 "cells": [
  {
   "cell_type": "code",
   "execution_count": null,
   "metadata": {},
   "outputs": [],
   "source": [
    "from sklearn.model_selection import StratifiedKFold\n",
    "from sklearn.ensemble import RandomForestClassifier\n",
    "from sklearn.metrics import accuracy_score\n",
    "from sklearn.grid_search import GridSearchCV, RandomizedSearchCV\n",
    "\n",
    "from utils_bis import *\n",
    "\n",
    "import time\n",
    "import operator"
   ]
  },
  {
   "cell_type": "code",
   "execution_count": null,
   "metadata": {},
   "outputs": [],
   "source": [
    "# graphs_name = ['PTC_MR']\n",
    "# graphs_name = ['MUTAG']\n",
    "#graphs_name = ['REDDIT-BINARY']\n",
    "#graphs_name = ['REDDIT-MULTI']\n",
    "#graphs_name = ['IMDB-BINARY']\n",
    "#graphs_name = ['IMDB-MULTI']\n",
    "#graphs_name = ['DD']\n",
    "graphs_name = ['PROTEINS']\n",
    "# graphs_name = ['NCI1']\n",
    "#graphs_name = ['NCI109']\n",
    "#graphs_name = ['ENZYMES']\n",
    "#graphs_name = ['COLLAB']\n",
    "# graphs_name = ['PROTEINS', \"NCI1\", \"NCI109\", \"COLLAB\", \"DD\", \"IMDB-BINARY\", \"REDDIT-BINARY\"]\n",
    "data_pwd = \"/data/these/graph_classif/\"\n",
    "\n",
    "datasets = {}\n",
    "for gn in graphs_name:\n",
    "    datasets[gn] = GraphDataset(folder_path=data_pwd + gn + '/' + gn, with_node_features=True)"
   ]
  },
  {
   "cell_type": "code",
   "execution_count": null,
   "metadata": {},
   "outputs": [],
   "source": [
    "params = {'emb_space' : [5, 8, 10], 'emb_spec' : [20, 50, 75, 100, 150], 'max_num_nodes' : [20, 50, 75, 100, 150], \"t0\" : [11, 21], \"t1\" : [11, 21]}"
   ]
  },
  {
   "cell_type": "code",
   "execution_count": null,
   "metadata": {},
   "outputs": [],
   "source": [
    "params = {'emb_space' : [2, 3, 5], 'emb_spec' : [20, 50, 100], \"t0\" : [11, 21, 31], \"t1\" : [11, 21, 31]}"
   ]
  },
  {
   "cell_type": "code",
   "execution_count": null,
   "metadata": {},
   "outputs": [],
   "source": [
    "for gn in datasets.keys():\n",
    "    print(gn)\n",
    "    dataset = datasets[gn]\n",
    "    X = []\n",
    "    y = []\n",
    "    for i, g in enumerate(dataset.graphs_):\n",
    "        X.append((g, dataset.node_features[i]))\n",
    "        y.append(dataset.labels_[i])\n",
    "    X = np.array(X)\n",
    "    y = np.array(y)\n",
    "    skf = StratifiedKFold(n_splits=10, shuffle=True, random_state=1)\n",
    "    X_kf = np.zeros((dataset.n_graphs_, 2))\n",
    "    y_kf = dataset.labels_\n",
    "    split = skf.split(X_kf, y_kf)\n",
    "    \n",
    "    accuracies = []\n",
    "    for train_indices, val_indices in split:\n",
    "        time0 = time.time()\n",
    "        X_train = X[train_indices]\n",
    "        y_train = y[train_indices]\n",
    "        X_val = X[val_indices]\n",
    "        y_val = y[val_indices]\n",
    "        \n",
    "        gs = RandomizedSearchCV(GraphClassifier(), params, cv=3)\n",
    "        \n",
    "        gs.fit(X_train, y_train)\n",
    "        print(gs.best_estimator_)\n",
    "        accuracyFold = gs.score(X_val, y_val)\n",
    "        print(accuracyFold)\n",
    "        accuracies.append(accuracyFold)\n",
    "        time1 = time.time()\n",
    "        print(time1 - time0)\n",
    "        \n",
    "    np.save(\"../code_for_publication/results/\" + gn + \".npy\", np.array(accuracies))"
   ]
  },
  {
   "cell_type": "code",
   "execution_count": null,
   "metadata": {},
   "outputs": [],
   "source": [
    "np.mean(np.load(\"../code_for_publication/results/PROTEINS_hist.npy\"))"
   ]
  },
  {
   "cell_type": "code",
   "execution_count": null,
   "metadata": {},
   "outputs": [],
   "source": [
    "import networkx as nx"
   ]
  },
  {
   "cell_type": "code",
   "execution_count": null,
   "metadata": {},
   "outputs": [],
   "source": [
    "G = nx.Graph()"
   ]
  },
  {
   "cell_type": "code",
   "execution_count": null,
   "metadata": {},
   "outputs": [],
   "source": [
    "G.add_edge(1, 2, w = 1)"
   ]
  },
  {
   "cell_type": "code",
   "execution_count": null,
   "metadata": {},
   "outputs": [],
   "source": [
    "G.add_edge(2, 3, w = 2)"
   ]
  },
  {
   "cell_type": "code",
   "execution_count": null,
   "metadata": {},
   "outputs": [],
   "source": [
    "G.add_edge(1, 2, w = 3)"
   ]
  },
  {
   "cell_type": "code",
   "execution_count": null,
   "metadata": {},
   "outputs": [],
   "source": [
    "G.edges[(1,2)]"
   ]
  },
  {
   "cell_type": "code",
   "execution_count": null,
   "metadata": {},
   "outputs": [],
   "source": [
    "nx.__version__"
   ]
  },
  {
   "cell_type": "code",
   "execution_count": null,
   "metadata": {},
   "outputs": [],
   "source": []
  }
 ],
 "metadata": {
  "kernelspec": {
   "display_name": "Python 3",
   "language": "python",
   "name": "python3"
  },
  "language_info": {
   "codemirror_mode": {
    "name": "ipython",
    "version": 3
   },
   "file_extension": ".py",
   "mimetype": "text/x-python",
   "name": "python",
   "nbconvert_exporter": "python",
   "pygments_lexer": "ipython3",
   "version": "3.5.3"
  }
 },
 "nbformat": 4,
 "nbformat_minor": 2
}
